{
 "cells": [
  {
   "cell_type": "markdown",
   "id": "14042e75-e1ed-4fe8-b12e-914265a35fbb",
   "metadata": {},
   "source": [
    "# Michaud Equations\n",
    "\n",
    "### The model includes the spatiotemporal dynamics of \n",
    "-  Membrane-bound Active Rho (RT)\n",
    "-  Inactive Rho,\n",
    "    -  membrane-bound(RD)\n",
    "    -  cytoplasmic (RDc) pools\n",
    "- F-actin (F), whose polymerization is\n",
    "\n",
    "directly stimulated by active Rho."
   ]
  },
  {
   "cell_type": "markdown",
   "id": "1efc3673-f106-4157-8161-21d040e1443a",
   "metadata": {},
   "source": [
    "### The Process\n",
    "\n",
    "- Inactive Rho on the\n",
    "membrane reversibly exchanges with its cytoplasmic pool.\n",
    "\n",
    "- Membrane-bound inactive Rho undergoes both a low-level\n",
    "background activation and the Ect2-dependent positive-feedback\n",
    "activation.\n",
    "- Active Rho induces F-actin polymerization, e.g., via\n",
    "its effector Dia3 (Fig. 6 G). \n",
    "- Freshly polymerized F-actin directly\n",
    "or via an actin-binding protein recruits Rho GAP RGA-3/4 and\n",
    "stimulates inactivation of Rho, closing the loop of negative feedback. \n",
    "- In the wake of the diminishing Rho activity, the newly\n",
    "polymerized actin disassembles and recycles back to the cytoplasm.\n",
    "\n",
    "\n",
    "#### The equations \n",
    "\n",
    "$\\frac{\\partial RT}{\\partial t}=R(RT,RD,F | \\alpha , \\beta)+D_m^{RT}\\triangle RT$\n",
    "\n",
    "$\\frac{\\partial RD_m}{\\partial t}=k_5^* RD_c-k_6RD_m -R(RT,RD,F| \\alpha , \\beta)+D_{RD}\\triangle RD_m$\n",
    "\n",
    "$\\frac{\\partial RD_c}{\\partial t}= \\eta [k_6 RD_m - k_5^* RD_c] + D_c^{RD}\\triangle RD_c$\n",
    "\n",
    "$\\frac{\\partial F}{\\partial t}=k_7+k_8\\frac{RT^2}{1+k_9RT^2}-k_{10}dW(\\sigma,s)F+D_F\\triangle F$"
   ]
  },
  {
   "cell_type": "markdown",
   "id": "5efa23a5-9dcc-4b3c-90a9-087f314621d0",
   "metadata": {},
   "source": [
    "#### The simplification assumptions\n",
    "\n",
    "- Assume that the entire membrane-bound amount is only a small fraction of the total cellular quantity of the GTPase $RD_c= RD_0$ Thus:\n",
    "    - Let $k_5 = k_5^* RD_0$\n",
    "    - Let $D_{RT}= D_m^{RT}$\n",
    "    - Let $D_{RD} = D_m^{RD}$\n",
    "\n",
    "#### The simplified equations\n",
    "\n",
    "- $\\frac{\\partial RT}{\\partial t}=R(RT,RD,F)+D_{RT}\\triangle RT$\n",
    "\n",
    "- $\\frac{\\partial RD}{\\partial t}=k_5-k_6RD-R(RT,RD,F)+D_{RD}\\triangle RD$\n",
    "\n",
    "- $\\frac{\\partial F}{\\partial t}=k_7+k_8\\frac{RT^2}{1+k_9RT^2}-k_{10}dW(\\sigma,s)F+D_F\\triangle F$"
   ]
  },
  {
   "cell_type": "markdown",
   "id": "00f97621-79be-4ae7-af7b-4d6812315e39",
   "metadata": {},
   "source": [
    "#### Libraries \n",
    "\n",
    "- numpy for using arrays which speed up computation and allow for elemnet wise operations without loops\n",
    "- Matplotlib for figures and gifs\n",
    "- scipy for noise"
   ]
  },
  {
   "cell_type": "code",
   "execution_count": 41,
   "id": "cb9da8bf-0e46-4935-8319-c740e5336d67",
   "metadata": {},
   "outputs": [],
   "source": [
    "import numpy as np\n",
    "import matplotlib.pyplot as plt\n",
    "import matplotlib.animation as animation\n",
    "from matplotlib.animation import PillowWriter\n",
    "from scipy.ndimage import gaussian_filter"
   ]
  },
  {
   "cell_type": "markdown",
   "id": "a004e3ed-c6ac-4ada-b5b8-e314383f5c98",
   "metadata": {},
   "source": [
    "#### Equation Parameters"
   ]
  },
  {
   "cell_type": "code",
   "execution_count": 36,
   "id": "6ddb8153-8c87-4393-84c9-77e76f1780ee",
   "metadata": {},
   "outputs": [
    {
     "name": "stdout",
     "output_type": "stream",
     "text": [
      "ERROR! Session/line number was not unique in database. History logging moved to new session 623\n"
     ]
    }
   ],
   "source": [
    "# Parameters that appear directly in the equations\n",
    "k0 = 0.00625\n",
    "k1 = 0.3125\n",
    "k2 = 1\n",
    "k3 = 0.0625\n",
    "k4 = 0.05625\n",
    "k5 = 0.0625\n",
    "k6 = 0.02083\n",
    "k7 = 0.001875\n",
    "k8 = 0.140625\n",
    "k9 = 0.25\n",
    "k10 = 0.025\n",
    "\n",
    "Drt = 0.08\n",
    "Drd = 0.4\n",
    "Df = 0.001 # 0-0.001\n",
    "\n",
    "# Parameters that appear in the spatially correlated Gaussian Stochastic Field\n",
    "sigma = 0.75 # 0.5-1\n",
    "s = 4\n",
    "f = 10 # dW update frequency (seconds)\n",
    "\n",
    "alpha = 1 # 0.5-1.5\n",
    "beta = 1 # 0-2"
   ]
  },
  {
   "cell_type": "markdown",
   "id": "b86820bc-83c3-4953-8a1d-f147ed765bca",
   "metadata": {},
   "source": [
    "#### Model Parameters\n",
    "\n",
    "- **Size:** Specifies the number of horizontal and vertical cells in the array\n",
    "\n",
    "- **dt:** After the model calculates the instantenious rate of change of a variable, it is multiplied by the time step, dt\n",
    "\n",
    "- **t:** The equation $n= \\frac{t}{dt}$ defines how many times the process must be looped. It is not phisical.\n",
    "\n",
    "- **frame_int:** Has to do with animation"
   ]
  },
  {
   "cell_type": "code",
   "execution_count": 43,
   "id": "a56c24bf-e269-44ff-a65b-94ee46c30bc5",
   "metadata": {},
   "outputs": [],
   "source": [
    "size = 100 # number of cells\n",
    "dt = 0.01  # time step\n",
    "t = 2000.0 # run time\n",
    "frame_int = 25 # animation frame interval"
   ]
  },
  {
   "cell_type": "markdown",
   "id": "2d7685c0-5b02-40d9-84a4-850d2a5cc781",
   "metadata": {},
   "source": [
    "#### Initial Concentrations\n",
    "\n",
    "- **RT:** Active Rho is set to be a random number between 0.1 and 1 for each cell\n",
    "- **RD:** Inactive Rho is set to be 0.1 for each cell\n",
    "- **F:** F-Actin is set to 0 unifromly"
   ]
  },
  {
   "cell_type": "code",
   "execution_count": 37,
   "id": "30f84457-886c-484e-a3cb-c3e737bdf778",
   "metadata": {},
   "outputs": [],
   "source": [
    "# set initial concentrations\n",
    "RT = 0.1+0.9*np.random.rand(size,size)\n",
    "RD = np.full((size, size),0.1)\n",
    "F = np.full((size, size),0)"
   ]
  },
  {
   "cell_type": "markdown",
   "id": "db757c92-d5fa-48d8-95d9-97ae76c99cb0",
   "metadata": {},
   "source": [
    "#### The susspicious noise\n",
    "\n",
    "The paper claims that the processes affecting the F-actin production are too complicated and cites *\"Pollard, T.D. 2016. Actin and actin-binding proteins. Cold Spring Harbor Perspect. Biol. 8:a018226.\"*\n",
    "\n",
    "Then, it suggests substituting a spatially correlated gaussian field to model this process, no explanation and no reasoning in either paper. \n",
    "\n",
    "An important function of this noise is that the patterns observed in the paper can not be reproduced without the noise. This raises concerns about how minimally sufficent the given PDEs are to generate waves. **Must be further investigated!**\n",
    "\n",
    "The noise is generated using gaussian filter function of scipy, the filter is then hidden into the parameter dW"
   ]
  },
  {
   "cell_type": "code",
   "execution_count": 38,
   "id": "db97d7c3-3c4c-4754-b842-8d4fd43e079d",
   "metadata": {},
   "outputs": [],
   "source": [
    "# generate correlated gaussian field for stochastic noise term\n",
    "def correlated_gaussian_field(SIGMA=sigma, S=s, SHAPE=(size,size), MEAN=1.0):\n",
    "    # apply Gaussian filter to random noise\n",
    "    field = gaussian_filter(np.random.normal(0, 1, SHAPE), sigma=S, mode='wrap')\n",
    "    # scale and shift for desired std and mean\n",
    "    return MEAN + SIGMA * field / np.std(field)\n",
    "\n",
    "# set initial stochastic noise term\n",
    "dW = correlated_gaussian_field()"
   ]
  },
  {
   "cell_type": "markdown",
   "id": "0f36538c-6110-4a6d-b994-a31bd50ca9b2",
   "metadata": {},
   "source": [
    "#### Reaction Function\n",
    "\n",
    "$R(A, B, C) = \\left(k_0 + \\alpha k_1 \\frac{A^3}{1 + k_2 A^2} \\right) B - \\left(k_3 + k_4 (1 + \\beta) C \\right) A$"
   ]
  },
  {
   "cell_type": "code",
   "execution_count": 39,
   "id": "7f9fdb78-c01e-4059-b92b-393c02b2db1c",
   "metadata": {},
   "outputs": [],
   "source": [
    "# define reaction function\n",
    "def R(A,B,C):\n",
    "    return (k0 + alpha*k1*A**3/(1 + k2*A**2))*B - (k3 + k4*(1 + beta)*C)*A"
   ]
  },
  {
   "cell_type": "markdown",
   "id": "2e42f7e2-e053-4667-99b1-860fca4df9c9",
   "metadata": {},
   "source": [
    "#### The Periodic laplacian\n",
    "\n",
    "**History:** The mathematician Neil Gabrielson, against the advice of his contemproroies sets on a jurney to discover an implementation of Periodic Laplacian term that does not involve setting the first row of values to the last row, which while achieves periodicity, also enforces neumann conditions that enforce equivilance of derivates on the boundary. Instead, he envisions the laplacian matrix as a 100 by 100 matrxi that he can convolve across the concentrartion matrix while wrapping around it, and achieves it. (This is written by Kaan for dramatic effect)\n",
    "\n",
    "\n",
    "The laplacian is approximated by the 2D verison of the finite difference method\n",
    "\n",
    "$\\Delta Z_{i,j} = Z_{i+1,j} + Z_{i-1,j} + Z_{i,j+1} + Z_{i,j-1} - 4Z_{i,j}$\n"
   ]
  },
  {
   "cell_type": "code",
   "execution_count": 46,
   "id": "8cdad982-90c9-47e6-b472-9a327a6920c3",
   "metadata": {},
   "outputs": [],
   "source": [
    "def periodic_laplacian(Z):\n",
    "    return (np.roll(Z, 1, axis=1) + np.roll(Z, -1, axis=1) + np.roll(Z, 1, axis=0) + np.roll(Z, -1, axis=0) - 4*Z)"
   ]
  },
  {
   "cell_type": "markdown",
   "id": "83179331-73d4-44ec-bece-8dd3e1f07202",
   "metadata": {},
   "source": [
    "#### Figure Settings"
   ]
  },
  {
   "cell_type": "code",
   "execution_count": null,
   "id": "10fa12ef-8248-45ef-af9d-bf1ed537a8a4",
   "metadata": {},
   "outputs": [],
   "source": [
    "# set up figure\n",
    "fig, ax = plt.subplots(figsize=(6,6))\n",
    "ax.axis('off')\n",
    "frames = []\n",
    "\n",
    "# colorbar\n",
    "im = ax.imshow(RT, cmap='cividis', vmin=0, vmax=1, animated=True)\n",
    "fig.colorbar(im, ax=ax, shrink=0.8)"
   ]
  },
  {
   "cell_type": "markdown",
   "id": "696135d8-7740-42fe-99b9-c7aeda34ee2f",
   "metadata": {},
   "source": [
    "#### The Main Loop\n",
    "\n",
    "The simplifies equations are implemented in a discrete manner:\n",
    "\n",
    "$RT= RT+ dt (R(RT,RD,F)+D_{RT}\\triangle RT)$\n",
    "\n",
    "$RD=RD  + dt(k_5-k_6RD-R(RT,RD,F)+D_{RD}\\triangle RD)$\n",
    "\n",
    "$ F= F+ dt(k_7+k_8\\frac{RT^2}{1+k_9RT^2}-k_{10}dW(\\sigma,s)F+D_F\\triangle F)$4\n",
    "\n",
    "Every 10 ittirations, the noise filter is re-updated"
   ]
  },
  {
   "cell_type": "code",
   "execution_count": 40,
   "id": "3ddff73b-f0ef-4249-8358-e27771314d24",
   "metadata": {},
   "outputs": [
    {
     "data": {
      "image/png": "[encoded data removed]",
      "text/plain": [
       "<Figure size 600x600 with 2 Axes>"
      ]
     },
     "metadata": {},
     "output_type": "display_data"
    }
   ],
   "source": [
    "# simulate the PDE with finite difference method\n",
    "for i in range(int(t/dt)):\n",
    "\n",
    "    # update concentrations\n",
    "    RT = RT + dt * (R(RT,RD,F) + Drt*periodic_laplacian(RT))\n",
    "    RD = RD + dt * (k5 - k6*RD - R(RT,RD,F) + Drd*periodic_laplacian(RD))\n",
    "    F = F + dt * (k7 + k8*RT**2 / (1 + k9*RT**2) - k10*dW*F + Df*periodic_laplacian(F))\n",
    "\n",
    "    # update stocastic noise term every f seconds\n",
    "    if i % int(f/dt) == 0:\n",
    "        dW = correlated_gaussian_field()\n",
    "\n",
    "    # capture a frame every frame_int seconds\n",
    "    if i % int(frame_int/dt) == 0:\n",
    "        frames.append([ax.imshow(RT, cmap='cividis', animated=True)])\n",
    "\n",
    "# save animation\n",
    "animation.ArtistAnimation(fig, frames, interval=50, blit=True).save('RT_animation.gif', writer=PillowWriter(fps=10))"
   ]
  },
  {
   "cell_type": "code",
   "execution_count": null,
   "id": "e9392822-2c9c-4028-a2a8-316319bf87cc",
   "metadata": {},
   "outputs": [],
   "source": []
  },
  {
   "cell_type": "code",
   "execution_count": null,
   "id": "a5b776ec-ff52-4c3d-bc62-dd54d88a3067",
   "metadata": {},
   "outputs": [],
   "source": []
  }
 ],
 "metadata": {
  "kernelspec": {
   "display_name": "Python 3 (ipykernel)",
   "language": "python",
   "name": "python3"
  },
  "language_info": {
   "codemirror_mode": {
    "name": "ipython",
    "version": 3
   },
   "file_extension": ".py",
   "mimetype": "text/x-python",
   "name": "python",
   "nbconvert_exporter": "python",
   "pygments_lexer": "ipython3",
   "version": "3.13.3"
  }
 },
 "nbformat": 4,
 "nbformat_minor": 5
}
