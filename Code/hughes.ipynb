{
 "cells": [
  {
   "cell_type": "markdown",
   "id": "ccea1006",
   "metadata": {},
   "source": [
    "## Hughes Model\n",
    "\n",
    "(2.3) from Hughes et al. 2024\n",
    "\n",
    "$\\frac{\\partial u}{\\partial t}=(b+\\gamma u^2)v-(1+sF+u^2)u+D\\frac{\\partial^2u}{\\partial x^2}$\n",
    "\n",
    "$\\frac{\\partial v}{\\partial t}=-(b+\\gamma u^2)v+(1+sF+u^2)u+\\frac{\\partial^2v}{\\partial x^2}$\n",
    "\n",
    "$\\frac{\\partial F}{\\partial t}=\\theta(p_0+p_1u-F)+D_F\\frac{\\partial^2F}{\\partial x^2}$"
   ]
  },
  {
   "cell_type": "code",
   "execution_count": null,
   "id": "52003fa5",
   "metadata": {},
   "outputs": [
    {
     "data": {
      "image/png": "[encoded data removed]",
      "text/plain": [
       "<Figure size 800x400 with 1 Axes>"
      ]
     },
     "metadata": {},
     "output_type": "display_data"
    }
   ],
   "source": [
    "import numpy as np\n",
    "import matplotlib.pyplot as plt\n",
    "import matplotlib.animation as animation\n",
    "from matplotlib.animation import PillowWriter\n",
    "from pde_utils import periodic_laplacian_1D as laplacian\n",
    "\n",
    "# define parameters\n",
    "b = 0.067 # GTPase basal rate of activation\n",
    "gamma = 3.557 # GTPase autocatalytic activation rate\n",
    "s = 0.406 # Strength of F-actin negative feedback\n",
    "theta = 0.6 # F-actin time scale parameter\n",
    "p0 = 0.8 # F-actin basal assembly rate\n",
    "p1 = 3.8 # GTPase-dependent F-actin assembly rate\n",
    "D = 0.1 # Active GTPase rate of diffusion\n",
    "Df = 0.001 # F-actin rate of diffusion\n",
    "M = 2 # Average total GTPase concentration\n",
    "\n",
    "size = 100 # number of cells\n",
    "dt = 0.01  # time step\n",
    "t = 1000.0 # run time\n",
    "frame_int = 25 # animation frame interval\n",
    "\n",
    "# set initial concentrations\n",
    "U = 0.1+0.9*np.random.rand(size) # active GTPase\n",
    "V = np.full(size, 0.1) # inactive GTPase\n",
    "F = np.full(size, 0) # F-actin\n",
    "\n",
    "# set up figure\n",
    "fig, ax = plt.subplots(figsize=(8, 4))\n",
    "frames = []\n",
    "\n",
    "# simulate the PDE with finite difference method\n",
    "for i in range(int(t/dt)):\n",
    "\n",
    "    # update concentrations\n",
    "    U = U + dt * ((b + gamma*U**2)*V - (1 + s*F + U**2)*U + D*laplacian(U))\n",
    "    V = V + dt * (-(b + gamma*U**2)*V + (1 + s*F + U**2)*U + laplacian(V))\n",
    "    F = F + dt * (theta * (p0 + p1*U - F) + Df*laplacian(F))\n",
    "\n",
    "    # capture a frame every frame_int seconds\n",
    "    if i % int(frame_int/dt) == 0:\n",
    "        Uline, = ax.plot(U, color='blue')\n",
    "        Vline, = ax.plot(V, color='red')\n",
    "        Fline, = ax.plot(F, color='green')\n",
    "        frames.append([Uline, Vline, Fline])\n",
    "\n",
    "# save animation\n",
    "animation.ArtistAnimation(fig, frames, interval=50, blit=True).save('animations/hughes.gif', writer=PillowWriter(fps=10))"
   ]
  }
 ],
 "metadata": {
  "kernelspec": {
   "display_name": "environment",
   "language": "python",
   "name": "python3"
  },
  "language_info": {
   "codemirror_mode": {
    "name": "ipython",
    "version": 3
   },
   "file_extension": ".py",
   "mimetype": "text/x-python",
   "name": "python",
   "nbconvert_exporter": "python",
   "pygments_lexer": "ipython3",
   "version": "3.7.3"
  }
 },
 "nbformat": 4,
 "nbformat_minor": 5
}
